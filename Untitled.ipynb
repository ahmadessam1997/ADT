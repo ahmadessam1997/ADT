{
 "cells": [
  {
   "cell_type": "code",
   "execution_count": 1,
   "metadata": {},
   "outputs": [],
   "source": [
    "import numpy as np\n",
    "from matplotlib.figure import Figure \n",
    "import tkinter as tk\n",
    "from matplotlib.backends.backend_tkagg import FigureCanvasTkAgg,  NavigationToolbar2Tk"
   ]
  },
  {
   "cell_type": "code",
   "execution_count": 2,
   "metadata": {},
   "outputs": [],
   "source": [
    "def pltt():\n",
    "    return var.get()"
   ]
  },
  {
   "cell_type": "code",
   "execution_count": 9,
   "metadata": {},
   "outputs": [],
   "source": [
    "def plot_type():\n",
    "    try:\n",
    "        s=e1.get()\n",
    "        s=s.replace('^','**')\n",
    "        xmin=float(e2.get())\n",
    "        xmax=float(e3.get())\n",
    "        no=int(e4.get())\n",
    "        steps=(xmax-xmin)/no\n",
    "        x = np.arange(xmin, xmax,steps)\n",
    "        if s.isdigit()==False:\n",
    "            f=eval(s)\n",
    "        else:\n",
    "            f=[eval(s)]*len(x)\n",
    "        fig = Figure(figsize = (5, 2), dpi = 100) \n",
    "        a=fig.add_subplot(111)\n",
    "        a.plot(x, f)    \n",
    "\n",
    "    \n",
    "        if pltt()==True:\n",
    "            a.set_yscale('log')\n",
    "        a.set_ylabel('f(x)')\n",
    "        a.set_xlabel('x')\n",
    "        a.grid()\n",
    "        canvas = FigureCanvasTkAgg(fig, master=prog)\n",
    "        canvas.get_tk_widget().place(relx=0.12, rely=0.52, relwidth=0.76, relheight=0.41)\n",
    "        canvas.draw()\n",
    "    except:\n",
    "        le=tk.Label(prog,text='Error!!!\\nCheck your input values and equation')\n",
    "        le.place(relx=0.12, rely=0.52, relwidth=0.76, relheight=0.41)"
   ]
  },
  {
   "cell_type": "code",
   "execution_count": 10,
   "metadata": {},
   "outputs": [],
   "source": [
    "prog = tk.Tk()\n",
    "\n",
    "var=tk.BooleanVar()\n",
    "\n",
    "canvas=tk.Canvas(prog,height=600,width=500)\n",
    "canvas.pack()\n",
    "\n",
    "l1=tk.Label(prog,text='Enter your equation:')\n",
    "l1.place(relx=0.2,rely=0.06)\n",
    "\n",
    "ly=tk.Label(prog,text='f(x) = ')\n",
    "ly.place(relx=0.13,rely=0.105)\n",
    "e1=tk.Entry(prog)\n",
    "e1.place(relx=0.2,rely=0.1,relwidth=0.4,relheight=0.05)\n",
    "\n",
    "l2=tk.Label(prog,text='Xmin')\n",
    "l2.place(relx=0.13,rely=0.205)\n",
    "e2=tk.Entry(prog)\n",
    "e2.place(relx=0.2,rely=0.2)\n",
    "\n",
    "l3=tk.Label(prog,text='Xmax')\n",
    "l3.place(relx=0.13,rely=0.305)\n",
    "e3=tk.Entry(prog)\n",
    "e3.place(relx=0.2,rely=0.3)\n",
    "\n",
    "l4=tk.Label(prog,text='Number of points')\n",
    "l4.place(relx=0.005,rely=0.405)\n",
    "e4=tk.Entry(prog)\n",
    "e4.place(relx=0.2,rely=0.4)\n",
    "\n",
    "lower_frame=tk.Frame(prog,bg='green',bd=10)\n",
    "lower_frame.place(relx=0.1, rely=0.5, relwidth=0.8, relheight=0.45)\n",
    "l5=tk.Label(lower_frame)\n",
    "l5.place(relwidth=1,relheight=1)\n",
    "\n",
    "values = {\"Linear Scale\", \"Logarithmic Scale\"} \n",
    "i=1  \n",
    "for text in values: \n",
    "    r1=tk.Radiobutton(prog, text = text,variable=var,value=(i-1), command=lambda:pltt)\n",
    "    r1.place(relx=0.7,rely=(i*0.07))\n",
    "    i+=1\n",
    "\n",
    "b1=tk.Button(prog,text='Plot',bg='gray',command=lambda:plot_type())\n",
    "b1.place(relx=0.5,rely=0.25,relwidth=0.4,relheight=0.2)\n",
    "\n",
    "\n",
    "prog.mainloop()"
   ]
  },
  {
   "cell_type": "code",
   "execution_count": null,
   "metadata": {},
   "outputs": [],
   "source": []
  }
 ],
 "metadata": {
  "kernelspec": {
   "display_name": "Python 3",
   "language": "python",
   "name": "python3"
  },
  "language_info": {
   "codemirror_mode": {
    "name": "ipython",
    "version": 3
   },
   "file_extension": ".py",
   "mimetype": "text/x-python",
   "name": "python",
   "nbconvert_exporter": "python",
   "pygments_lexer": "ipython3",
   "version": "3.8.5"
  }
 },
 "nbformat": 4,
 "nbformat_minor": 4
}
